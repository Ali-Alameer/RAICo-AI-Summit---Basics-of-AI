{
  "nbformat": 4,
  "nbformat_minor": 0,
  "metadata": {
    "colab": {
      "provenance": [],
      "authorship_tag": "ABX9TyMRFrcs9+KOTZhke47RNwsk",
      "include_colab_link": true
    },
    "kernelspec": {
      "name": "python3",
      "display_name": "Python 3"
    },
    "language_info": {
      "name": "python"
    }
  },
  "cells": [
    {
      "cell_type": "markdown",
      "metadata": {
        "id": "view-in-github",
        "colab_type": "text"
      },
      "source": [
        "<a href=\"https://colab.research.google.com/github/Ali-Alameer/RAICo-AI-Summit---Basics-of-AI/blob/main/NLP.ipynb\" target=\"_parent\"><img src=\"https://colab.research.google.com/assets/colab-badge.svg\" alt=\"Open In Colab\"/></a>"
      ]
    },
    {
      "cell_type": "code",
      "source": [
        "import gensim.downloader\n",
        "\n",
        "# Download and load pre-trained word embeddings model\n",
        "model = gensim.downloader.load('word2vec-google-news-300')"
      ],
      "metadata": {
        "id": "aD2m-2uc3SFa"
      },
      "execution_count": null,
      "outputs": []
    },
    {
      "cell_type": "markdown",
      "source": [
        "# Define analogy relationship"
      ],
      "metadata": {
        "id": "xDfK8uBx8AMS"
      }
    },
    {
      "cell_type": "code",
      "source": [
        "analogy = ('king', 'man', 'woman')\n",
        "\n",
        "# Calculate analogy\n",
        "try:\n",
        "    result = model.most_similar(positive=[analogy[0], analogy[2]], negative=[analogy[1]], topn=1)\n",
        "    print(f\"Analogous word to '{analogy[0]}' - '{analogy[1]}' + '{analogy[2]}' is: {result[0][0]}\")\n",
        "except KeyError:\n",
        "    print(\"One or more words not found in vocabulary.\")"
      ],
      "metadata": {
        "id": "Sol8o93K8AVx"
      },
      "execution_count": null,
      "outputs": []
    },
    {
      "cell_type": "markdown",
      "source": [
        "Please try the below:\n",
        "\n",
        "\"Paris\" - \"France\" + \"Italy\" ≈ \"\"\n",
        "\n",
        "\"Tokyo\" - \"Japan\" + \"Germany\" ≈ \"\"\n",
        "\n",
        "\"Apple\" - \"Fruit\" + \"Electronics\" ≈ \"\"\n",
        "\n",
        "\"Facebook\" - \"Social media\" + \"Search\" ≈ \"\"\n",
        "\n",
        "\"Cat\" - \"Pet\" + \"Bird\" ≈ \"\""
      ],
      "metadata": {
        "id": "jAqfnwKP9hDW"
      }
    }
  ]
}